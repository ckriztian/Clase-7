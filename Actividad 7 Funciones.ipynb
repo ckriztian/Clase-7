{
 "cells": [
  {
   "cell_type": "markdown",
   "metadata": {},
   "source": [
    "#### 1. Calculadora de IMC (Índice de Masa Corporal):\n",
    "\n",
    "Cree una función que calcule el IMC (Índice de Masa Corporal) de una persona a partir de su peso y altura. La función debe recibir como parámetros el peso (en kg) y la altura (en cm) y devolver el valor del IMC.\n",
    "\n",
    "Opcional: Implemente una segunda función que clasifique el IMC según los estándares de la OMS:\n",
    "\n",
    "Bajo peso: IMC < 18.5\n",
    "Peso normal: 18.5 <= IMC < 25\n",
    "Sobrepeso: 25 <= IMC < 30\n",
    "Obesidad: IMC >= 30"
   ]
  },
  {
   "cell_type": "code",
   "execution_count": 25,
   "metadata": {},
   "outputs": [
    {
     "name": "stdout",
     "output_type": "stream",
     "text": [
      "***Calculadora de IMC***\n",
      "Su IMC es: 31.28\n",
      "Usted tiene Obesidad\n"
     ]
    }
   ],
   "source": [
    "print(\"***Calculadora de IMC***\")\n",
    "def IMC():\n",
    "    peso = float(input(\"Ingrese su peso en kg: \"))\n",
    "    altura = float(input(\"Ingrese su altura en cm: \"))\n",
    "    IMC = peso / (altura/100)**(altura/100)\n",
    "    IMC_round = round(IMC,2)\n",
    "    print(f\"Su IMC es: {IMC_round}\" )\n",
    "    if IMC < 18.5:\n",
    "        print(\"Usted tiene un peso bajo\")\n",
    "    elif IMC >= 18.5 and IMC < 25:\n",
    "        print(\"Usted tiene un peso normal\")\n",
    "    elif IMC >= 25 and IMC < 30:\n",
    "        print(\"Usted tiene sobrepeso\")\n",
    "    elif IMC >= 30:\n",
    "        print(\"Usted tiene Obesidad\")\n",
    "IMC()\n"
   ]
  },
  {
   "cell_type": "markdown",
   "metadata": {},
   "source": [
    "#### 2. Analizador de números:\n",
    "\n",
    "Cree una función que reciba un número entero como parámetro y devuelva un diccionario con la siguiente información:\n",
    "\n",
    "Si el número es par o impar\n",
    "Si el número es positivo, negativo o cero\n",
    "Si el número es divisible por 3\n",
    "Si el número es divisible por 5\n",
    "Si el número es divisible por 3 y por 5\n",
    "\n",
    "Opcional: Implemente la función utilizando una función lambda para cada una de las verificaciones."
   ]
  },
  {
   "cell_type": "code",
   "execution_count": 54,
   "metadata": {},
   "outputs": [
    {
     "name": "stdout",
     "output_type": "stream",
     "text": [
      "***Analizador de números***\n",
      "Su numero es: 45\n"
     ]
    },
    {
     "data": {
      "text/plain": [
       "{'par_impar': 'impar',\n",
       " 'signo': 'positivo',\n",
       " 'divisible_por_3': True,\n",
       " 'divisible_por_5': True,\n",
       " 'divisible_por_3_y_5': True}"
      ]
     },
     "execution_count": 54,
     "metadata": {},
     "output_type": "execute_result"
    }
   ],
   "source": [
    "print(\"***Analizador de números***\")\n",
    "\n",
    "def analizar_numero(n):\n",
    "    es_par = lambda x: x % 2 == 0\n",
    "    es_impar = lambda x: x % 2 != 0\n",
    "    es_positivo = lambda x: x > 0\n",
    "    es_negativo = lambda x: x < 0\n",
    "    es_cero = lambda x: x == 0\n",
    "    divisible_por_3 = lambda x: x % 3 == 0\n",
    "    divisible_por_5 = lambda x: x % 5 == 0\n",
    "    divisible_por_3_y_5 = lambda x: x % 3 == 0 and x % 5 == 0\n",
    "\n",
    "    resultado = {\n",
    "        \"par_impar\": \"par\" if es_par(n) else \"impar\",\n",
    "        \"signo\": \"positivo\" if es_positivo(n) else (\"negativo\" if es_negativo(n) else \"cero\"),\n",
    "        \"divisible_por_3\": divisible_por_3(n),\n",
    "        \"divisible_por_5\": divisible_por_5(n),\n",
    "        \"divisible_por_3_y_5\": divisible_por_3_y_5(n)\n",
    "    }\n",
    "\n",
    "    print(\"Su numero es:\",numero)\n",
    "    return resultado\n",
    "\n",
    "# Ejemplo de uso\n",
    "numero = int(input(\"Ingrese un numero entero: \"))\n",
    "analizar_numero(numero)\n"
   ]
  },
  {
   "cell_type": "markdown",
   "metadata": {},
   "source": [
    "### 3. Calculadora de área y perímetro de figuras geométricas:\n",
    "\n",
    "Cree funciones para calcular el área y perímetro de las siguientes figuras geométricas:\n",
    "\n",
    "- Cuadrado\n",
    "- Triángulo (equilátero, rectángulo e isósceles)\n",
    "- Círculo\n",
    "- Rectángulo\n",
    "\n",
    "Cada función debe recibir las dimensiones necesarias como parámetros y devolver el valor correspondiente del área o perímetro."
   ]
  },
  {
   "cell_type": "code",
   "execution_count": 58,
   "metadata": {},
   "outputs": [
    {
     "name": "stdout",
     "output_type": "stream",
     "text": [
      "***Calculadora de área y perímetro de figuras geométricas***\n",
      "El área del cuadrado es: 16.00\n"
     ]
    }
   ],
   "source": [
    "print(\"***Calculadora de área y perímetro de figuras geométricas***\")\n",
    "def calc_area_perimetro():\n",
    "    figura = input(\"¿Qué figura deseas calcular el área? Seleccione la letra: (a = Triangulo, b = Cuadrado, c = Circulo, d Rectángulo\")\n",
    "    if figura == \"a\":\n",
    "        tipo_triangulo = input(\"¿Qué tipo de triangulo?: (e = Equilatero, r = Rectangulo, i = isosceles)\")\n",
    "        if tipo_triangulo == \"e\":\n",
    "            lado = float(input(\"Ingrese el lado del triangulo equilatero: \"))\n",
    "            area = (lado**2) * (3**0.5) / 4\n",
    "            perimetro = lado * 3\n",
    "            print(f\"El área del triangulo equilatero es: {area:.2f} el perimetro es {perimetro}\")\n",
    "        elif tipo_triangulo == \"r\":\n",
    "            base = float(input(\"Ingrese la base del triangulo rectangulo: \"))\n",
    "            altura = float(input(\"Ingrese la altura del triangulo rectangulo: \"))\n",
    "            area = (base * altura) / 2\n",
    "            perimetro = base + altura + (base**2 + altura**2)**0.\n",
    "            print(f\"El área del triangulo rectangulo es: {area:.2f} el perimetro es {perimetro}\")\n",
    "        elif tipo_triangulo == \"i\":\n",
    "            base = float(input(\"Ingrese la base del triangulo isosceles: \"))\n",
    "            altura = float(input(\"Ingrese la altura del triangulo isosceles: \"))\n",
    "            area = (base * altura) / 2\n",
    "            perimetro = base + altura + (base**2 + altura**2)**0.\n",
    "            print(f\"El área del triangulo isosceles es: {area:.2f} el perimetro es {perimetro}\")\n",
    "    elif figura == \"b\":\n",
    "        lado = float(input(\"Introduce el lado del cuadrado: \"))\n",
    "        area = lado ** 2\n",
    "        print(f\"El área del cuadrado es: {area:.2f}\")\n",
    "    elif figura == \"c\":\n",
    "        radio = float(input(\"Introduce el radio del círculo: \"))\n",
    "        area = 3.1416 * (radio ** 2)\n",
    "        print(f\"El área del círculo es: {area:.2f}\")\n",
    "    elif figura == \"d\":\n",
    "        base = float(input(\"Introduce la base del rectángulo: \"))\n",
    "        altura = float(input(\"Introduce la altura del rectángulo: \"))\n",
    "        area = base * altura\n",
    "        print(f\"El área del rectángulo es: {area:.2f}\")\n",
    "\n",
    "calc_area_perimetro()\n",
    "\n",
    "\n"
   ]
  }
 ],
 "metadata": {
  "kernelspec": {
   "display_name": "Python 3",
   "language": "python",
   "name": "python3"
  },
  "language_info": {
   "codemirror_mode": {
    "name": "ipython",
    "version": 3
   },
   "file_extension": ".py",
   "mimetype": "text/x-python",
   "name": "python",
   "nbconvert_exporter": "python",
   "pygments_lexer": "ipython3",
   "version": "3.12.3"
  }
 },
 "nbformat": 4,
 "nbformat_minor": 2
}
